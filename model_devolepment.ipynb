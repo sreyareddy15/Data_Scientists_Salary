{
 "cells": [
  {
   "cell_type": "code",
   "execution_count": 1,
   "source": [
    "import pandas as pd\r\n",
    "import numpy as np\r\n",
    "import matplotlib.pyplot as plt"
   ],
   "outputs": [],
   "metadata": {}
  },
  {
   "cell_type": "code",
   "execution_count": 2,
   "source": [
    "df = pd.read_csv('eda_data.csv')\r\n",
    "df.head()"
   ],
   "outputs": [
    {
     "output_type": "execute_result",
     "data": {
      "text/html": [
       "<div>\n",
       "<style scoped>\n",
       "    .dataframe tbody tr th:only-of-type {\n",
       "        vertical-align: middle;\n",
       "    }\n",
       "\n",
       "    .dataframe tbody tr th {\n",
       "        vertical-align: top;\n",
       "    }\n",
       "\n",
       "    .dataframe thead th {\n",
       "        text-align: right;\n",
       "    }\n",
       "</style>\n",
       "<table border=\"1\" class=\"dataframe\">\n",
       "  <thead>\n",
       "    <tr style=\"text-align: right;\">\n",
       "      <th></th>\n",
       "      <th>index</th>\n",
       "      <th>Job Title</th>\n",
       "      <th>Salary Estimate</th>\n",
       "      <th>Job Description</th>\n",
       "      <th>Rating</th>\n",
       "      <th>Company Name</th>\n",
       "      <th>Location</th>\n",
       "      <th>Headquarters</th>\n",
       "      <th>Size</th>\n",
       "      <th>Founded</th>\n",
       "      <th>...</th>\n",
       "      <th>age</th>\n",
       "      <th>python</th>\n",
       "      <th>R</th>\n",
       "      <th>spark</th>\n",
       "      <th>aws</th>\n",
       "      <th>excel</th>\n",
       "      <th>job_simp</th>\n",
       "      <th>seniority</th>\n",
       "      <th>desc_len</th>\n",
       "      <th>num_comp</th>\n",
       "    </tr>\n",
       "  </thead>\n",
       "  <tbody>\n",
       "    <tr>\n",
       "      <th>0</th>\n",
       "      <td>0</td>\n",
       "      <td>Sr Data Scientist</td>\n",
       "      <td>$137K-$171K (Glassdoor est.)</td>\n",
       "      <td>Description\\r\\n\\r\\nThe Senior Data Scientist i...</td>\n",
       "      <td>3.1</td>\n",
       "      <td>Healthfirst\\r\\n3.1</td>\n",
       "      <td>New York, NY</td>\n",
       "      <td>New York, NY</td>\n",
       "      <td>1001 to 5000 employees</td>\n",
       "      <td>1993</td>\n",
       "      <td>...</td>\n",
       "      <td>28</td>\n",
       "      <td>0</td>\n",
       "      <td>0</td>\n",
       "      <td>0</td>\n",
       "      <td>1</td>\n",
       "      <td>0</td>\n",
       "      <td>data scientist</td>\n",
       "      <td>senior</td>\n",
       "      <td>3431</td>\n",
       "      <td>3</td>\n",
       "    </tr>\n",
       "    <tr>\n",
       "      <th>1</th>\n",
       "      <td>1</td>\n",
       "      <td>Data Scientist</td>\n",
       "      <td>$137K-$171K (Glassdoor est.)</td>\n",
       "      <td>Secure our Nation, Ignite your Future\\r\\n\\r\\nJ...</td>\n",
       "      <td>4.2</td>\n",
       "      <td>ManTech\\r\\n4.2</td>\n",
       "      <td>Chantilly, VA</td>\n",
       "      <td>Herndon, VA</td>\n",
       "      <td>5001 to 10000 employees</td>\n",
       "      <td>1968</td>\n",
       "      <td>...</td>\n",
       "      <td>53</td>\n",
       "      <td>0</td>\n",
       "      <td>0</td>\n",
       "      <td>0</td>\n",
       "      <td>0</td>\n",
       "      <td>0</td>\n",
       "      <td>data scientist</td>\n",
       "      <td>na</td>\n",
       "      <td>4110</td>\n",
       "      <td>0</td>\n",
       "    </tr>\n",
       "    <tr>\n",
       "      <th>2</th>\n",
       "      <td>2</td>\n",
       "      <td>Data Scientist</td>\n",
       "      <td>$137K-$171K (Glassdoor est.)</td>\n",
       "      <td>Overview\\r\\n\\r\\n\\r\\nAnalysis Group is one of t...</td>\n",
       "      <td>3.8</td>\n",
       "      <td>Analysis Group\\r\\n3.8</td>\n",
       "      <td>Boston, MA</td>\n",
       "      <td>Boston, MA</td>\n",
       "      <td>1001 to 5000 employees</td>\n",
       "      <td>1981</td>\n",
       "      <td>...</td>\n",
       "      <td>40</td>\n",
       "      <td>1</td>\n",
       "      <td>0</td>\n",
       "      <td>0</td>\n",
       "      <td>1</td>\n",
       "      <td>1</td>\n",
       "      <td>data scientist</td>\n",
       "      <td>na</td>\n",
       "      <td>8844</td>\n",
       "      <td>0</td>\n",
       "    </tr>\n",
       "    <tr>\n",
       "      <th>3</th>\n",
       "      <td>3</td>\n",
       "      <td>Data Scientist</td>\n",
       "      <td>$137K-$171K (Glassdoor est.)</td>\n",
       "      <td>JOB DESCRIPTION:\\r\\n\\r\\nDo you have a passion ...</td>\n",
       "      <td>3.5</td>\n",
       "      <td>INFICON\\r\\n3.5</td>\n",
       "      <td>Newton, MA</td>\n",
       "      <td>Bad Ragaz, Switzerland</td>\n",
       "      <td>501 to 1000 employees</td>\n",
       "      <td>2000</td>\n",
       "      <td>...</td>\n",
       "      <td>21</td>\n",
       "      <td>1</td>\n",
       "      <td>0</td>\n",
       "      <td>0</td>\n",
       "      <td>1</td>\n",
       "      <td>1</td>\n",
       "      <td>data scientist</td>\n",
       "      <td>na</td>\n",
       "      <td>3381</td>\n",
       "      <td>3</td>\n",
       "    </tr>\n",
       "    <tr>\n",
       "      <th>4</th>\n",
       "      <td>4</td>\n",
       "      <td>Data Scientist</td>\n",
       "      <td>$137K-$171K (Glassdoor est.)</td>\n",
       "      <td>Data Scientist\\r\\nAffinity Solutions / Marketi...</td>\n",
       "      <td>2.9</td>\n",
       "      <td>Affinity Solutions\\r\\n2.9</td>\n",
       "      <td>New York, NY</td>\n",
       "      <td>New York, NY</td>\n",
       "      <td>51 to 200 employees</td>\n",
       "      <td>1998</td>\n",
       "      <td>...</td>\n",
       "      <td>23</td>\n",
       "      <td>1</td>\n",
       "      <td>0</td>\n",
       "      <td>0</td>\n",
       "      <td>0</td>\n",
       "      <td>1</td>\n",
       "      <td>data scientist</td>\n",
       "      <td>na</td>\n",
       "      <td>2748</td>\n",
       "      <td>3</td>\n",
       "    </tr>\n",
       "  </tbody>\n",
       "</table>\n",
       "<p>5 rows × 33 columns</p>\n",
       "</div>"
      ],
      "text/plain": [
       "   index          Job Title               Salary Estimate  \\\n",
       "0      0  Sr Data Scientist  $137K-$171K (Glassdoor est.)   \n",
       "1      1     Data Scientist  $137K-$171K (Glassdoor est.)   \n",
       "2      2     Data Scientist  $137K-$171K (Glassdoor est.)   \n",
       "3      3     Data Scientist  $137K-$171K (Glassdoor est.)   \n",
       "4      4     Data Scientist  $137K-$171K (Glassdoor est.)   \n",
       "\n",
       "                                     Job Description  Rating  \\\n",
       "0  Description\\r\\n\\r\\nThe Senior Data Scientist i...     3.1   \n",
       "1  Secure our Nation, Ignite your Future\\r\\n\\r\\nJ...     4.2   \n",
       "2  Overview\\r\\n\\r\\n\\r\\nAnalysis Group is one of t...     3.8   \n",
       "3  JOB DESCRIPTION:\\r\\n\\r\\nDo you have a passion ...     3.5   \n",
       "4  Data Scientist\\r\\nAffinity Solutions / Marketi...     2.9   \n",
       "\n",
       "                Company Name       Location            Headquarters  \\\n",
       "0         Healthfirst\\r\\n3.1   New York, NY            New York, NY   \n",
       "1             ManTech\\r\\n4.2  Chantilly, VA             Herndon, VA   \n",
       "2      Analysis Group\\r\\n3.8     Boston, MA              Boston, MA   \n",
       "3             INFICON\\r\\n3.5     Newton, MA  Bad Ragaz, Switzerland   \n",
       "4  Affinity Solutions\\r\\n2.9   New York, NY            New York, NY   \n",
       "\n",
       "                      Size  Founded  ... age python  R spark aws  excel  \\\n",
       "0   1001 to 5000 employees     1993  ...  28      0  0     0   1      0   \n",
       "1  5001 to 10000 employees     1968  ...  53      0  0     0   0      0   \n",
       "2   1001 to 5000 employees     1981  ...  40      1  0     0   1      1   \n",
       "3    501 to 1000 employees     2000  ...  21      1  0     0   1      1   \n",
       "4      51 to 200 employees     1998  ...  23      1  0     0   0      1   \n",
       "\n",
       "         job_simp  seniority  desc_len  num_comp  \n",
       "0  data scientist     senior      3431         3  \n",
       "1  data scientist         na      4110         0  \n",
       "2  data scientist         na      8844         0  \n",
       "3  data scientist         na      3381         3  \n",
       "4  data scientist         na      2748         3  \n",
       "\n",
       "[5 rows x 33 columns]"
      ]
     },
     "metadata": {},
     "execution_count": 2
    }
   ],
   "metadata": {}
  },
  {
   "cell_type": "code",
   "execution_count": 3,
   "source": [
    "df.columns"
   ],
   "outputs": [
    {
     "output_type": "execute_result",
     "data": {
      "text/plain": [
       "Index(['index', 'Job Title', 'Salary Estimate', 'Job Description', 'Rating',\n",
       "       'Company Name', 'Location', 'Headquarters', 'Size', 'Founded',\n",
       "       'Type of ownership', 'Industry', 'Sector', 'Revenue', 'Competitors',\n",
       "       'hourly', 'employer_provided', 'min_salary', 'max_salary', 'avg_salary',\n",
       "       'company_txt', 'job_state', 'same_state', 'age', 'python', 'R', 'spark',\n",
       "       'aws', 'excel', 'job_simp', 'seniority', 'desc_len', 'num_comp'],\n",
       "      dtype='object')"
      ]
     },
     "metadata": {},
     "execution_count": 3
    }
   ],
   "metadata": {}
  },
  {
   "cell_type": "code",
   "execution_count": 4,
   "source": [
    "df_model = df[['avg_salary','Rating','Size','Type of ownership','Industry','Sector','Revenue','num_comp','employer_provided',\r\n",
    "             'job_state','same_state','age','python','spark','aws','excel','job_simp','seniority','desc_len']]\r\n"
   ],
   "outputs": [],
   "metadata": {}
  },
  {
   "cell_type": "code",
   "execution_count": 5,
   "source": [
    "df_dummy = pd.get_dummies(df_model)"
   ],
   "outputs": [],
   "metadata": {}
  },
  {
   "cell_type": "code",
   "execution_count": 6,
   "source": [
    "from sklearn.model_selection import train_test_split,cross_val_score,GridSearchCV\r\n",
    "X = df_dummy.drop('avg_salary',axis=1)\r\n",
    "y = df_dummy['avg_salary'].values\r\n",
    "X_train,X_test, y_train,y_test = train_test_split(X,y,test_size= 0.2,random_state=42)"
   ],
   "outputs": [],
   "metadata": {}
  },
  {
   "cell_type": "code",
   "execution_count": 7,
   "source": [
    "X_train.shape"
   ],
   "outputs": [
    {
     "output_type": "execute_result",
     "data": {
      "text/plain": [
       "(537, 341)"
      ]
     },
     "metadata": {},
     "execution_count": 7
    }
   ],
   "metadata": {}
  },
  {
   "cell_type": "code",
   "execution_count": 8,
   "source": [
    "# starting with basic model\r\n",
    "# Linear Regression \r\n",
    "from sklearn.linear_model import LinearRegression,Lasso\r\n",
    "from sklearn.metrics import mean_squared_error as mse\r\n",
    "lm = LinearRegression(n_jobs=-1)\r\n",
    "lm.fit(X_train,y_train)\r\n",
    "pred_LR = lm.predict(X_test)\r\n",
    "print(\"RMSE : \",mse(pred_LR,y_test,squared=True))\r\n",
    "print(\"Cross Val Score: \",np.mean(cross_val_score(lm,X_train,y_train,scoring='neg_mean_absolute_error',cv=3)))"
   ],
   "outputs": [
    {
     "output_type": "stream",
     "name": "stdout",
     "text": [
      "RMSE :  32201459912.02459\n",
      "Cross Val Score:  -778972.4171816609\n"
     ]
    }
   ],
   "metadata": {}
  },
  {
   "cell_type": "code",
   "execution_count": 9,
   "source": [
    "# Lasso\r\n",
    "lm_l = Lasso(alpha=.13)\r\n",
    "lm_l.fit(X_train,y_train)\r\n",
    "pred_LR_L = lm_l.predict(X_test)\r\n",
    "print(\"RMSE : \",mse(pred_LR_L,y_test,squared=True))\r\n",
    "np.mean(cross_val_score(lm_l,X_train,y_train, scoring = 'neg_mean_absolute_error', cv= 3))"
   ],
   "outputs": [
    {
     "output_type": "stream",
     "name": "stdout",
     "text": [
      "RMSE :  1263.596600328767\n"
     ]
    },
    {
     "output_type": "execute_result",
     "data": {
      "text/plain": [
       "-30.525390656663152"
      ]
     },
     "metadata": {},
     "execution_count": 9
    }
   ],
   "metadata": {}
  },
  {
   "cell_type": "code",
   "execution_count": 10,
   "source": [
    "# Tuning Lasso\r\n",
    "alpha = []\r\n",
    "error = []\r\n",
    "\r\n",
    "for i in range(1,100):\r\n",
    "    alpha.append(i/100)\r\n",
    "    lml = Lasso(alpha=(i/100))\r\n",
    "    error.append(np.mean(cross_val_score(lml,X_train,y_train, scoring = 'neg_mean_absolute_error', cv= 3)))\r\n",
    "    "
   ],
   "outputs": [
    {
     "output_type": "stream",
     "name": "stderr",
     "text": [
      "C:\\Users\\Sreya\\anaconda3\\lib\\site-packages\\sklearn\\linear_model\\_coordinate_descent.py:530: ConvergenceWarning: Objective did not converge. You might want to increase the number of iterations. Duality gap: 4129.842725377122, tolerance: 62.54588212290502\n",
      "  model = cd_fast.enet_coordinate_descent(\n",
      "C:\\Users\\Sreya\\anaconda3\\lib\\site-packages\\sklearn\\linear_model\\_coordinate_descent.py:530: ConvergenceWarning: Objective did not converge. You might want to increase the number of iterations. Duality gap: 2186.10534107234, tolerance: 60.34520670391062\n",
      "  model = cd_fast.enet_coordinate_descent(\n"
     ]
    }
   ],
   "metadata": {}
  },
  {
   "cell_type": "code",
   "execution_count": 11,
   "source": [
    "plt.plot(alpha,error)\r\n",
    "plt.xlabel(\"alpha\")\r\n",
    "plt.ylabel('error')"
   ],
   "outputs": [
    {
     "output_type": "execute_result",
     "data": {
      "text/plain": [
       "Text(0, 0.5, 'error')"
      ]
     },
     "metadata": {},
     "execution_count": 11
    },
    {
     "output_type": "display_data",
     "data": {
      "image/png": "[encoded data removed]",
      "text/plain": [
       "<Figure size 432x288 with 1 Axes>"
      ]
     },
     "metadata": {
      "needs_background": "light"
     }
    }
   ],
   "metadata": {}
  },
  {
   "cell_type": "code",
   "execution_count": 12,
   "source": [
    "alpha[error.index(max(error))]\r\n"
   ],
   "outputs": [
    {
     "output_type": "execute_result",
     "data": {
      "text/plain": [
       "0.6"
      ]
     },
     "metadata": {},
     "execution_count": 12
    }
   ],
   "metadata": {}
  },
  {
   "cell_type": "markdown",
   "source": [
    "At alpha =0.6 we have maximum neg MAE we should consider maximum because we are calculating negative value"
   ],
   "metadata": {}
  },
  {
   "cell_type": "code",
   "execution_count": 13,
   "source": [
    "# Lasso\r\n",
    "lm_l = Lasso(alpha=0.6)\r\n",
    "lm_l.fit(X_train,y_train)\r\n",
    "pred_LR_L = lm_l.predict(X_test)\r\n",
    "print(\"RMSE : \",mse(pred_LR_L,y_test,squared=True))\r\n",
    "np.mean(cross_val_score(lm_l,X_train,y_train, scoring = 'neg_mean_absolute_error', cv= 3))"
   ],
   "outputs": [
    {
     "output_type": "stream",
     "name": "stdout",
     "text": [
      "RMSE :  1200.1221007724469\n"
     ]
    },
    {
     "output_type": "execute_result",
     "data": {
      "text/plain": [
       "-28.90750696174753"
      ]
     },
     "metadata": {},
     "execution_count": 13
    }
   ],
   "metadata": {}
  },
  {
   "cell_type": "code",
   "execution_count": 14,
   "source": [
    "from sklearn import svm\r\n",
    "from sklearn.linear_model import SGDRegressor\r\n",
    "from sklearn.neighbors import KNeighborsRegressor\r\n",
    "from sklearn.tree import DecisionTreeRegressor\r\n",
    "from sklearn.ensemble import AdaBoostRegressor,GradientBoostingRegressor,RandomForestRegressor"
   ],
   "outputs": [],
   "metadata": {}
  },
  {
   "cell_type": "code",
   "execution_count": 15,
   "source": [
    "#Let's try cross-valdation with multiple models\r\n",
    "models = {\r\n",
    "    \"LinearRegression\": LinearRegression(),\r\n",
    "    \"lasso Regression\" : Lasso(alpha =0.6),\r\n",
    "    \"KNearest\": KNeighborsRegressor(),\r\n",
    "    \"Support Vector regressor\": svm.SVR(),\r\n",
    "    \"DecisionTreeRegressor\": DecisionTreeRegressor(),\r\n",
    "    \"Randomforest\": RandomForestRegressor(),\r\n",
    "    \"GradientBoosting\" : GradientBoostingRegressor(),\r\n",
    "    \"AdaBoost\" : AdaBoostRegressor(),\r\n",
    "}"
   ],
   "outputs": [],
   "metadata": {}
  },
  {
   "cell_type": "code",
   "execution_count": 16,
   "source": [
    "for key, model in models.items():\r\n",
    "    training_score = np.mean(cross_val_score(model,X_train,y_train,scoring='neg_mean_absolute_error',cv=3))\r\n",
    "    print(model.__class__.__name__, \"Has \", training_score, \" cross val score\")"
   ],
   "outputs": [
    {
     "output_type": "stream",
     "name": "stdout",
     "text": [
      "LinearRegression Has  -778972.4171816609  cross val score\n",
      "Lasso Has  -28.90750696174753  cross val score\n",
      "KNeighborsRegressor Has  -31.981378026070768  cross val score\n",
      "SVR Has  -27.397288646697636  cross val score\n",
      "DecisionTreeRegressor Has  -38.02172563625077  cross val score\n",
      "RandomForestRegressor Has  -31.756180663093375  cross val score\n",
      "GradientBoostingRegressor Has  -29.886492628618953  cross val score\n",
      "AdaBoostRegressor Has  -32.94848619605334  cross val score\n"
     ]
    }
   ],
   "metadata": {}
  },
  {
   "cell_type": "markdown",
   "source": [
    "We can observe that SVR has less cross val score\r\n",
    "Let's try to tune the model using gridSearchCV"
   ],
   "metadata": {}
  },
  {
   "cell_type": "code",
   "execution_count": 20,
   "source": [
    "Parameters = {'kernel':('rbf','linear','poly'),\r\n",
    "              'degree':(3,5,7),\r\n",
    "              'C':[1,5,10],\r\n",
    "              'coef0':[0.01,10,0.5],\r\n",
    "              }"
   ],
   "outputs": [],
   "metadata": {}
  },
  {
   "cell_type": "code",
   "execution_count": 22,
   "source": [
    "grid_svr = GridSearchCV(svm.SVR(),Parameters,cv=3,scoring='neg_mean_absolute_error',verbose=True)\r\n",
    "grid_svr.fit(X_train,y_train)\r\n",
    "best_svr = grid_svr.best_estimator_\r\n",
    "pred_svr = grid_svr.predict(X_test)"
   ],
   "outputs": [
    {
     "output_type": "stream",
     "name": "stdout",
     "text": [
      "Fitting 3 folds for each of 9 candidates, totalling 27 fits\n"
     ]
    }
   ],
   "metadata": {}
  },
  {
   "cell_type": "code",
   "execution_count": 82,
   "source": [
    "parameters = {'n_estimators':range(60,101,10),'criterion':['mae','mse']}\r\n",
    "\r\n",
    "gs = GridSearchCV(RandomForestRegressor(),parameters,scoring='neg_mean_absolute_error',cv=3,verbose=True)\r\n",
    "gs.fit(X_train,y_train)\r\n"
   ],
   "outputs": [
    {
     "output_type": "stream",
     "name": "stdout",
     "text": [
      "Fitting 3 folds for each of 10 candidates, totalling 30 fits\n"
     ]
    },
    {
     "output_type": "execute_result",
     "data": {
      "text/plain": [
       "GridSearchCV(cv=3, estimator=RandomForestRegressor(),\n",
       "             param_grid={'criterion': ['mae', 'mse'],\n",
       "                         'n_estimators': range(60, 101, 10)},\n",
       "             scoring='neg_mean_absolute_error', verbose=True)"
      ]
     },
     "metadata": {},
     "execution_count": 82
    }
   ],
   "metadata": {}
  },
  {
   "cell_type": "code",
   "execution_count": 84,
   "source": [
    "gs.best_score_\r\n",
    "gs.best_estimator_\r\n"
   ],
   "outputs": [
    {
     "output_type": "execute_result",
     "data": {
      "text/plain": [
       "RandomForestRegressor(n_estimators=60)"
      ]
     },
     "metadata": {},
     "execution_count": 84
    }
   ],
   "metadata": {}
  },
  {
   "cell_type": "code",
   "execution_count": 59,
   "source": [
    "print(grid_svr.best_estimator_)\r\n",
    "print(grid_svr.best_score_)\r\n",
    "print(mse(pred_svr,y_test,squared=True))"
   ],
   "outputs": [
    {
     "output_type": "stream",
     "name": "stdout",
     "text": [
      "SVR(C=1, coef0=0.01, degree=5, kernel='poly')\n",
      "-27.3120831223968\n",
      "1181.1068713143181\n"
     ]
    }
   ],
   "metadata": {}
  },
  {
   "cell_type": "code",
   "execution_count": 85,
   "source": [
    "import pickle\r\n",
    "pickl = {'model': grid_svr.best_estimator_}\r\n",
    "pickle.dump( pickl, open( 'model' + \".p\", \"wb\" ) )\r\n",
    "\r\n",
    "file_name = \"model.p\"\r\n",
    "with open(file_name, 'rb') as pickled:\r\n",
    "    data = pickle.load(pickled)\r\n",
    "    model = data['model']"
   ],
   "outputs": [],
   "metadata": {}
  },
  {
   "cell_type": "code",
   "execution_count": 87,
   "source": [
    "pred = model.predict(np.array(list(X_test.iloc[0,:])).reshape(1,-1))[0]\r\n",
    "print(pred)\r\n",
    "print(y_test[0])"
   ],
   "outputs": [
    {
     "output_type": "stream",
     "name": "stdout",
     "text": [
      "113.8983730740679\n",
      "134.0\n"
     ]
    }
   ],
   "metadata": {}
  },
  {
   "cell_type": "code",
   "execution_count": null,
   "source": [],
   "outputs": [],
   "metadata": {}
  }
 ],
 "metadata": {
  "orig_nbformat": 4,
  "language_info": {
   "name": "python",
   "version": "3.8.8",
   "mimetype": "text/x-python",
   "codemirror_mode": {
    "name": "ipython",
    "version": 3
   },
   "pygments_lexer": "ipython3",
   "nbconvert_exporter": "python",
   "file_extension": ".py"
  },
  "kernelspec": {
   "name": "python3",
   "display_name": "Python 3.8.8 64-bit ('base': conda)"
  },
  "interpreter": {
   "hash": "24111af7db8bbcb8e113c0e8928408e603b18e5c2d556c9ffbecf82fa830ff32"
  }
 },
 "nbformat": 4,
 "nbformat_minor": 2
}